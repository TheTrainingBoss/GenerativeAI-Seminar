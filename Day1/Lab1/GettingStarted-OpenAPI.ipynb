{
 "cells": [
  {
   "cell_type": "code",
   "execution_count": null,
   "metadata": {},
   "outputs": [],
   "source": [
    "%pip install -q openai"
   ]
  },
  {
   "cell_type": "code",
   "execution_count": null,
   "metadata": {},
   "outputs": [],
   "source": [
    "import openai"
   ]
  },
  {
   "cell_type": "code",
   "execution_count": null,
   "metadata": {},
   "outputs": [],
   "source": [
    "openai.api_key = 'sk-xxx'"
   ]
  },
  {
   "cell_type": "markdown",
   "metadata": {},
   "source": [
    "## First way - Using Python Package"
   ]
  },
  {
   "cell_type": "code",
   "execution_count": null,
   "metadata": {},
   "outputs": [],
   "source": [
    "messages = [\n",
    "    {\"role\": \"system\", \"content\": \"You are a kind, polite and helpful assistant.\"},\n",
    "]"
   ]
  },
  {
   "cell_type": "code",
   "execution_count": null,
   "metadata": {},
   "outputs": [],
   "source": [
    "while True:\n",
    "    message = input(\"User : \")\n",
    "    if message:\n",
    "        messages.append(\n",
    "            {\"role\": \"user\", \"content\": message},\n",
    "        )\n",
    "        chat = openai.ChatCompletion.create(\n",
    "            model=\"gpt-3.5-turbo\", messages=messages\n",
    "        )\n",
    "    \n",
    "    reply = chat.choices[0].message.content\n",
    "    print(f\"ChatGPT: {reply}\")\n",
    "    messages.append({\"role\": \"assistant\", \"content\": reply})"
   ]
  },
  {
   "cell_type": "markdown",
   "metadata": {},
   "source": [
    "## Second Way - Using API Endpoint"
   ]
  },
  {
   "cell_type": "code",
   "execution_count": null,
   "metadata": {},
   "outputs": [],
   "source": [
    "import requests\n",
    "\n",
    "URL = \"https://api.openai.com/v1/chat/completions\"\n",
    "\n",
    "payload = {\n",
    "\"model\": \"gpt-3.5-turbo\",\n",
    "\"messages\": [{\"role\": \"user\", \"content\": f\"Where do Visual Studio Live Conferences take place?\"}],\n",
    "\"temperature\" : 1.0,\n",
    "\"top_p\":1.0,\n",
    "\"n\" : 1,\n",
    "\"stream\": False,\n",
    "\"presence_penalty\":0,\n",
    "\"frequency_penalty\":0,\n",
    "}\n",
    "\n",
    "headers = {\n",
    "\"Content-Type\": \"application/json\",\n",
    "\"Authorization\": f\"Bearer {openai.api_key}\"\n",
    "}\n",
    "\n",
    "response = requests.post(URL, headers=headers, json=payload, stream=False)"
   ]
  },
  {
   "cell_type": "code",
   "execution_count": null,
   "metadata": {},
   "outputs": [],
   "source": [
    "response.content"
   ]
  },
  {
   "cell_type": "markdown",
   "metadata": {},
   "source": [
    "### Response for JSON beautification"
   ]
  },
  {
   "cell_type": "code",
   "execution_count": null,
   "metadata": {},
   "outputs": [],
   "source": [
    "{\"id\": \"chatcmpl-9BM4ahAmyNH3tCgMrgrIeEeGhRQAr\",  \"object\": \"chat.completion\",  \"created\": 1712493484,  \"model\": \"gpt-3.5-turbo-0125\",  \"choices\": [    {      \"index\": 0,      \"message\": {        \"role\": \"assistant\",        \"content\": \"Visual Studio Live Conferences take place in various locations such as Orlando, Chicago, and San Diego in the United States. They also have events in Canada such as in Toronto. Additionally, they occasionally have international conferences in locations like Amsterdam.\"      },      \"logprobs\": null,     \"finish_reason\": \"stop\"    }  ], \"usage\": {    \"prompt_tokens\": 17,    \"completion_tokens\": 47,    \"total_tokens\": 64  }, \"system_fingerprint\": \"fp_b28b39ffa8\"}"
   ]
  }
 ],
 "metadata": {
  "kernelspec": {
   "display_name": "Python 3",
   "language": "python",
   "name": "python3"
  },
  "language_info": {
   "codemirror_mode": {
    "name": "ipython",
    "version": 3
   },
   "file_extension": ".py",
   "mimetype": "text/x-python",
   "name": "python",
   "nbconvert_exporter": "python",
   "pygments_lexer": "ipython3",
   "version": "3.11.6"
  }
 },
 "nbformat": 4,
 "nbformat_minor": 2
}
